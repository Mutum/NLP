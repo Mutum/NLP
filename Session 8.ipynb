{
 "cells": [
  {
   "cell_type": "markdown",
   "metadata": {},
   "source": [
    "\n",
    "### 2. Assignment 2 (900 points):\n",
    "- Look at this sample file: sample.py Preview the documentYou are to write such examples, where you describe the code to be written (starts with #), and the code it should generate. The file shows 3 examples of what text should generate what code. \n",
    "- write 100 such examples. These are the requirements:\n",
    "    - if you want the code to print something, then mention \"print\" in the text\n",
    "    - read the sample.py clearly to see the examples and learn from it. If you want the code to write a program, you are NOT  asking to write a function. If you want a function, please mention it. \n",
    "    - run the code in the terminal/notebook and make sure it runs!\n",
    "     - you cannot write more than 5 simple functions like add 2/3/4/5 numbers or divide, etc. Try and think of something tough, for example, add a list or tuple together. \n",
    "    - stick to python only (no 3rd party library like numpy, etc)\n",
    "    - here are some examples:\n",
    "        - provide the length of list, dict, tuple, etc\n",
    "        - write a function to sort a list\n",
    "        - write a function to test the time it takes to run a function\n",
    "        - write a program to remove stop words from a sentence provided,\n",
    "        - etc\n",
    "- This assignment is of 900 marks. Each example if 9 marks. If your example is similar to someone else, then you score less. The formula we will use is 9/(repeated example). That means if 9 people write same example, then you get only \n",
    "    - 1. So think different! (if examples are mentioned here and in the sample file, you will score less)\n",
    "- 3. Once done, please upload the file to github and share another link on the LMS"
   ]
  },
  {
   "cell_type": "markdown",
   "metadata": {},
   "source": [
    "53 python code snippet"
   ]
  },
  {
   "cell_type": "code",
   "execution_count": 52,
   "metadata": {},
   "outputs": [
    {
     "name": "stdout",
     "output_type": "stream",
     "text": [
      "['Epai', 'is', 'awesome', 'thanks']\n",
      "['Epai', 'is', 'thanks']\n"
     ]
    }
   ],
   "source": [
    "# Create an python empty list. Extend 4 strings list  to the list. Then pop one item off the end\n",
    "# of the list.print the append and last list after pop\n",
    "\n",
    "import random\n",
    "\n",
    "empty = []\n",
    "strings = [\"Epai\",\"is\",\"awesome\",\"thanks\"]\n",
    "empty.extend(strings)\n",
    "print(empty)\n",
    "empty.pop(random.randint(0,len(empty)-1))\n",
    "print(empty)"
   ]
  },
  {
   "cell_type": "code",
   "execution_count": 53,
   "metadata": {},
   "outputs": [
    {
     "name": "stdout",
     "output_type": "stream",
     "text": [
      "5\n",
      "6\n",
      "7\n",
      "8\n",
      "9\n",
      "10\n",
      "11\n",
      "12\n",
      "13\n",
      "14\n",
      "15\n"
     ]
    }
   ],
   "source": [
    "# Use the python 'for' statement to print the items in a list , construct the list with list comprehension\n",
    "\n",
    "list_ = [num for num in range(5,16)]\n",
    "for num in list_:\n",
    "    print(num)"
   ]
  },
  {
   "cell_type": "code",
   "execution_count": 54,
   "metadata": {},
   "outputs": [
    {
     "data": {
      "text/plain": [
       "'Epai is awesome thanks'"
      ]
     },
     "execution_count": 54,
     "metadata": {},
     "output_type": "execute_result"
    }
   ],
   "source": [
    "#  Use the python string join operation to concatenate the items in a list.\n",
    "\n",
    "list_ = [\"Epai\",\"is\",\"awesome\",\"thanks\"]\n",
    "\" \".join(list_)"
   ]
  },
  {
   "cell_type": "code",
   "execution_count": 55,
   "metadata": {},
   "outputs": [
    {
     "name": "stdout",
     "output_type": "stream",
     "text": [
      " \"Epai\" is 'awesome', thanks\n"
     ]
    }
   ],
   "source": [
    "# construct a python string containing single and double qoute, print the string\n",
    "\n",
    "string = ' \"Epai\" is \\'awesome\\', thanks'\n",
    "print(string)"
   ]
  },
  {
   "cell_type": "code",
   "execution_count": 56,
   "metadata": {},
   "outputs": [
    {
     "data": {
      "text/plain": [
       "'Epai:is:awesome:thanks'"
      ]
     },
     "execution_count": 56,
     "metadata": {},
     "output_type": "execute_result"
    }
   ],
   "source": [
    "# In python, Use the string join operation to create a string that contains a colon as a separator.\n",
    "\n",
    "strings = [\"Epai\",\"is\",\"awesome\",\"thanks\"]\n",
    "\":\".join(strings)"
   ]
  },
  {
   "cell_type": "code",
   "execution_count": 57,
   "metadata": {},
   "outputs": [
    {
     "name": "stdout",
     "output_type": "stream",
     "text": [
      "My first and last name is Mutum Ema\n"
     ]
    }
   ],
   "source": [
    "#  In python,Use printf to produce a string containing your last and first names,separated by a comma\n",
    "\n",
    "first = 'Mutum'\n",
    "last = 'Ema'\n",
    "\n",
    "print(f'My first and last name is {first} {last}')"
   ]
  },
  {
   "cell_type": "code",
   "execution_count": 58,
   "metadata": {},
   "outputs": [
    {
     "name": "stdout",
     "output_type": "stream",
     "text": [
      "{'Mutum': 'Ema', 'Tom': 'Mendes'}\n"
     ]
    }
   ],
   "source": [
    "# Write a python literal that defines a dictionary using both string literals and variables\n",
    "# containing strings . Print the dictionary\n",
    "\n",
    "first = 'Mutum'\n",
    "last = 'Ema'\n",
    "\n",
    "dct = {first:last , \"Tom\":\"Mendes\"}\n",
    "\n",
    "print(dct)"
   ]
  },
  {
   "cell_type": "code",
   "execution_count": 59,
   "metadata": {},
   "outputs": [
    {
     "name": "stdout",
     "output_type": "stream",
     "text": [
      "Mutum\n",
      "Tom\n",
      "Ema\n",
      "Mendes\n",
      "Mutum Ema\n",
      "Tom Mendes\n"
     ]
    }
   ],
   "source": [
    "# Write python statements that iterate over keys, values, and  items in a dictionary.\n",
    "\n",
    "dct = {first:last , \"Tom\":\"Mendes\"}\n",
    "\n",
    "for key in dct.keys():\n",
    "    print(key)\n",
    "    \n",
    "for val in dct.values():\n",
    "    print(val)    \n",
    "    \n",
    "for key,val in dct.items():\n",
    "    print(key,val)    "
   ]
  },
  {
   "cell_type": "code",
   "execution_count": 60,
   "metadata": {},
   "outputs": [
    {
     "name": "stdout",
     "output_type": "stream",
     "text": [
      "{'color': 'blue', 'fruit': 'apple', 'pet': 'dog'}\n"
     ]
    }
   ],
   "source": [
    "# write python statement to create dictionary from two list using list comprehension . print the dictionary\n",
    "\n",
    "objects = ['blue', 'apple', 'dog']\n",
    "categories = ['color', 'fruit', 'pet']\n",
    "a_dict = {key: value for key, value in zip(categories, objects)}\n",
    "print(a_dict)"
   ]
  },
  {
   "cell_type": "code",
   "execution_count": 61,
   "metadata": {},
   "outputs": [],
   "source": [
    "# write python functioin to create dictionary from two list using list comprehension .\n",
    "\n",
    "def dic_list(a,b):\n",
    "    return { key:value for key,value in zip(a,b)}"
   ]
  },
  {
   "cell_type": "code",
   "execution_count": 62,
   "metadata": {},
   "outputs": [
    {
     "name": "stdout",
     "output_type": "stream",
     "text": [
      "[21, 22, 23, 24, 25, 26, 27, 28, 29, 30, 31, 32, 33, 34, 35, 36, 37, 38, 39, 40, 41, 42, 43, 44, 45, 46, 47, 48, 49, 50, 51, 52, 53, 54, 55, 56, 57, 58, 59, 60, 61, 62, 63, 64, 65, 66, 67, 68, 69]\n"
     ]
    }
   ],
   "source": [
    "# Write a python list comprehension that returns all the keys in a dictionary whose associated values are greater than zero.\n",
    "# print the result\n",
    "\n",
    "list_ = {key:val for key,val in zip(range(70),range(-20,50))}\n",
    "\n",
    "result = [key for key,val in list_.items() if val > 0]\n",
    "print(result)"
   ]
  },
  {
   "cell_type": "code",
   "execution_count": 63,
   "metadata": {},
   "outputs": [],
   "source": [
    "#  Write a python function that returns all the keys in a dictionary whose associated values are greater than zero.\n",
    "\n",
    "def non_zero_value(x):\n",
    "    return [key for key,val in x.items() if val > 0]\n"
   ]
  },
  {
   "cell_type": "code",
   "execution_count": 64,
   "metadata": {},
   "outputs": [
    {
     "name": "stdout",
     "output_type": "stream",
     "text": [
      "[0, 2, 4, 6, 8, 10]\n"
     ]
    }
   ],
   "source": [
    "# Write a python list comprehension that produces even integers from 0 to 10. \n",
    "# print the result\n",
    "\n",
    "result = [x for x in range(0,11) if x%2==0]\n",
    "print(result)"
   ]
  },
  {
   "cell_type": "code",
   "execution_count": 65,
   "metadata": {},
   "outputs": [],
   "source": [
    "# Write a python function that produces even integers from 0 to 10.\n",
    "\n",
    "def even_num_untill_10():\n",
    "    return [y for y in range(11) if y%2 == 0]\n"
   ]
  },
  {
   "cell_type": "code",
   "execution_count": 66,
   "metadata": {},
   "outputs": [
    {
     "name": "stdout",
     "output_type": "stream",
     "text": [
      "[(0, 0), (0, 1), (0, 2), (0, 3), (1, 0), (1, 1), (1, 2), (1, 3), (2, 0), (2, 1), (2, 2), (2, 3)]\n"
     ]
    }
   ],
   "source": [
    "# Write a pyton list comprehension that iterates over two lists and produces all the\n",
    "# combinations of items from the lists.print the combination\n",
    "\n",
    "list_1 = list(range(3))\n",
    "list_2 = list(range(4))\n",
    "\n",
    "result = [(x,y) for x  in list_1 for y in list_2]\n",
    "print(result)\n"
   ]
  },
  {
   "cell_type": "code",
   "execution_count": 67,
   "metadata": {},
   "outputs": [],
   "source": [
    "# Write a pyton function that iterates over two lists and produces all the\n",
    "# combinations of items from the lists\n",
    "\n",
    "def combination(x,y):\n",
    "    return [(a,b) for a in x for b in y]"
   ]
  },
  {
   "cell_type": "code",
   "execution_count": 68,
   "metadata": {},
   "outputs": [
    {
     "name": "stdout",
     "output_type": "stream",
     "text": [
      "55\n",
      "52\n"
     ]
    }
   ],
   "source": [
    "# Write a python statement to strip all the whitespace characters off the right end of a string.\n",
    "# print the len\n",
    "\n",
    "strings = 'Write a python statement to strip all the whitespace  \\n'\n",
    "print(len(strings))\n",
    "result = strings.rstrip()\n",
    "print(len(result))"
   ]
  },
  {
   "cell_type": "code",
   "execution_count": 69,
   "metadata": {},
   "outputs": [],
   "source": [
    "# Write a python functioin to strip all the whitespace characters off the right end of a string.\n",
    "\n",
    "def rstrip_str(x):\n",
    "    return x.rstrip()"
   ]
  },
  {
   "cell_type": "code",
   "execution_count": 70,
   "metadata": {},
   "outputs": [
    {
     "data": {
      "text/plain": [
       "'  Mutum   '"
      ]
     },
     "execution_count": 70,
     "metadata": {},
     "output_type": "execute_result"
    }
   ],
   "source": [
    "# Wire a python statement to center a short string within a longer string, that is, pad a short string with blank\n",
    "# characters on both right and left to center it.\n",
    "\n",
    "name = 'Mutum'\n",
    "name.center(10)"
   ]
  },
  {
   "cell_type": "code",
   "execution_count": 71,
   "metadata": {},
   "outputs": [],
   "source": [
    "# Write a python function to center a short string within a longer string, that is, pad a short string with blank\n",
    "# characters on both right and left to center it.\n",
    "\n",
    "def center_str(x,length = None):\n",
    "    \n",
    "    if length:\n",
    "        return x.center(lenght)\n",
    "    else:\n",
    "        return x.center(0)"
   ]
  },
  {
   "cell_type": "code",
   "execution_count": 72,
   "metadata": {},
   "outputs": [],
   "source": [
    "# write a python function to Split a string into a list of \"words\".\n",
    "\n",
    "def split_str(x , sep = \" \"):\n",
    "    return x.split(sep=sep)\n"
   ]
  },
  {
   "cell_type": "code",
   "execution_count": 73,
   "metadata": {},
   "outputs": [
    {
     "data": {
      "text/plain": [
       "2"
      ]
     },
     "execution_count": 73,
     "metadata": {},
     "output_type": "execute_result"
    }
   ],
   "source": [
    "# write a python statement counting number of  None in a list\n",
    "\n",
    "a = [11, None, 'abc', None, {}]\n",
    "sum([x== None for x in a])"
   ]
  },
  {
   "cell_type": "code",
   "execution_count": 74,
   "metadata": {},
   "outputs": [],
   "source": [
    "#  write a python function for counting number of  None in a list\n",
    "\n",
    "def none_count(x):\n",
    "    return sum([y==None for y in x])"
   ]
  },
  {
   "cell_type": "code",
   "execution_count": 75,
   "metadata": {},
   "outputs": [
    {
     "name": "stdout",
     "output_type": "stream",
     "text": [
      "11\n",
      "22\n",
      "33\n"
     ]
    }
   ],
   "source": [
    "# write a python statement a list of integers. Use a for: statement to print out each integer in the list.\n",
    "\n",
    "\n",
    "a = [11, 22, 33, ]\n",
    "\n",
    "for val in a:\n",
    "    if type(val)== int:\n",
    "        print(val)"
   ]
  },
  {
   "cell_type": "code",
   "execution_count": 76,
   "metadata": {},
   "outputs": [],
   "source": [
    "# write a python function a list of integers. Use a for: statement to print out each integer in the list.\n",
    "\n",
    "def find_int(x):\n",
    "    return [y for y in x if type(y)== int]\n"
   ]
  },
  {
   "cell_type": "code",
   "execution_count": 77,
   "metadata": {},
   "outputs": [
    {
     "data": {
      "text/plain": [
       "49995000"
      ]
     },
     "execution_count": 77,
     "metadata": {},
     "output_type": "execute_result"
    }
   ],
   "source": [
    "# write a python statement to find sum of all the integers from 0 to 99999.\n",
    "\n",
    "sum([x for x in range(10000)])"
   ]
  },
  {
   "cell_type": "code",
   "execution_count": 78,
   "metadata": {},
   "outputs": [],
   "source": [
    "# write a python function to find sum of all the integers from 0 to 99999.\n",
    "\n",
    "def sum_10k():\n",
    "    return sum([x for x in range(10000)])\n"
   ]
  },
  {
   "cell_type": "code",
   "execution_count": 79,
   "metadata": {},
   "outputs": [],
   "source": [
    "# write a python function to find lenght of any object given in the arguments\n",
    "\n",
    "def len_list(*args):\n",
    "    \n",
    "    result = []\n",
    "\n",
    "    for arg in args:\n",
    "        result.append(len(arg))\n",
    "        \n",
    "    return result"
   ]
  },
  {
   "cell_type": "code",
   "execution_count": 80,
   "metadata": {},
   "outputs": [
    {
     "data": {
      "text/plain": [
       "[5, 5]"
      ]
     },
     "execution_count": 80,
     "metadata": {},
     "output_type": "execute_result"
    }
   ],
   "source": [
    "len_list([1, 2, 3, 4, 5],(100, 200, 300, 400, 500))"
   ]
  },
  {
   "cell_type": "code",
   "execution_count": 81,
   "metadata": {},
   "outputs": [
    {
     "name": "stdout",
     "output_type": "stream",
     "text": [
      "before: [11, 22, 33, 44, 55, 66]\n",
      "after: [11, 22, 33, 44, 55, 198]\n"
     ]
    }
   ],
   "source": [
    "# Write a python function with  for: loop that takes a list of integers and print triples each integer that is even.\n",
    "# Use the continue statement\n",
    "\n",
    "\n",
    "def triple( x ):\n",
    "    numbers = x \n",
    "    print ('before: %s' % (numbers, ))\n",
    "    \n",
    "    for idx, item in enumerate(numbers):\n",
    "        if item % 2 != 0:\n",
    "            continue\n",
    "    numbers[idx] *= 3\n",
    "    print('after: %s' % (numbers, ))\n",
    "\n",
    "triple([11, 22, 33, 44, 55, 66, ])"
   ]
  },
  {
   "cell_type": "code",
   "execution_count": 82,
   "metadata": {},
   "outputs": [],
   "source": [
    "# Write a python function that takes a list of integers and computes the sum of all the integers\n",
    "# up until a zero is found in the list.\n",
    "\n",
    "\n",
    "def sum_util_zero(x):\n",
    "    \n",
    "    total = 0\n",
    "    \n",
    "    for num in x :\n",
    "        if num == 0:\n",
    "            break\n",
    "        else:\n",
    "            total += num\n",
    "    return total"
   ]
  },
  {
   "cell_type": "code",
   "execution_count": 83,
   "metadata": {},
   "outputs": [
    {
     "data": {
      "text/plain": [
       "33"
      ]
     },
     "execution_count": 83,
     "metadata": {},
     "output_type": "execute_result"
    }
   ],
   "source": [
    "sum_util_zero([11, 22, 0, 44, 55, 66, ])"
   ]
  },
  {
   "cell_type": "code",
   "execution_count": 87,
   "metadata": {},
   "outputs": [],
   "source": [
    "# Write a python function which can compute the factorial of a given numbers.\n",
    "# The results should be printed in a comma-separated sequence on a single line.\n",
    "\n",
    "def fact(x):\n",
    "    if x == 0:\n",
    "        return 1\n",
    "    return x * fact(x - 1)\n"
   ]
  },
  {
   "cell_type": "code",
   "execution_count": 86,
   "metadata": {},
   "outputs": [
    {
     "data": {
      "text/plain": [
       "6"
      ]
     },
     "execution_count": 86,
     "metadata": {},
     "output_type": "execute_result"
    }
   ],
   "source": [
    "fact(3)"
   ]
  },
  {
   "cell_type": "code",
   "execution_count": 94,
   "metadata": {},
   "outputs": [
    {
     "name": "stdout",
     "output_type": "stream",
     "text": [
      "{1: 1, 2: 4, 3: 9}\n"
     ]
    }
   ],
   "source": [
    "# With a given integral number n, write a python program to generate a dictionary that contains (i, i*i) such that is an integral number between 1 and n (both included). \n",
    "# and then the program should print the dictionary.\n",
    "\n",
    "raw_input = {1: 1, 2: 4, 3: 9, 4: 16, 5: 25, 6: 36, 7: 49, 8: 64}\n",
    "\n",
    "n=int(3)\n",
    "d=dict()\n",
    "for i in range(1,n+1):\n",
    "    d[i]=i*i\n",
    "\n",
    "print(d)\n"
   ]
  },
  {
   "cell_type": "code",
   "execution_count": 102,
   "metadata": {},
   "outputs": [
    {
     "name": "stdout",
     "output_type": "stream",
     "text": [
      "{'Mars', 'Jupiter', 'Earth', 'Mercury', 'Saturn', 'Venus'}\n"
     ]
    }
   ],
   "source": [
    "# Write a python statement to merge one set into another set, print the result\n",
    "\n",
    "objects = set(['Mars', 'Jupiter', 'Saturn'])\n",
    "internal = set(['Mercury', 'Venus', 'Earth', 'Mars'])\n",
    "objects.update(internal)\n",
    "\n",
    "print(objects)"
   ]
  },
  {
   "cell_type": "code",
   "execution_count": 106,
   "metadata": {},
   "outputs": [
    {
     "name": "stdout",
     "output_type": "stream",
     "text": [
      "12345\n"
     ]
    }
   ],
   "source": [
    "# Write a python regex that find the first group of digits in text . print the findings\n",
    "\n",
    "import re\n",
    "\n",
    "line = 'There is a phone number 12345 in this row and an age: 23'\n",
    "match = re.search(r'\\d+', line)\n",
    "if match :\n",
    "    print(match.group(0))"
   ]
  },
  {
   "cell_type": "code",
   "execution_count": 108,
   "metadata": {},
   "outputs": [
    {
     "name": "stdout",
     "output_type": "stream",
     "text": [
      "['12345', '23']\n"
     ]
    }
   ],
   "source": [
    "# Write a python regex that find all the digits in text . print the findings\n",
    "\n",
    "import re\n",
    "\n",
    "line = 'There is a phone number 12345 in this row and an age: 23'\n",
    "match = re.findall(r'\\d+', line)\n",
    "print(match)"
   ]
  },
  {
   "cell_type": "code",
   "execution_count": 111,
   "metadata": {},
   "outputs": [
    {
     "name": "stdout",
     "output_type": "stream",
     "text": [
      "[('number', '12345'), ('another', '42')]\n"
     ]
    }
   ],
   "source": [
    "# Write a python regex that find all the digits in text and its preceeding words . print the findings\n",
    "\n",
    "line = 'There is a phone number 12345 in this row and another 42 number'\n",
    "matches = re.findall(r'(\\w+) (\\d+)', line)\n",
    "print(matches)"
   ]
  },
  {
   "cell_type": "code",
   "execution_count": 112,
   "metadata": {},
   "outputs": [
    {
     "name": "stdout",
     "output_type": "stream",
     "text": [
      "This is 11 string with 33 numbers: 3434\n"
     ]
    }
   ],
   "source": [
    "# Write a python regex that double whatever the number including in a tex . print the findings\n",
    "\n",
    "text = \"This is 1 string with 3 numbers: 34\"\n",
    "new_text = re.sub(r'(\\d+)', r'\\1\\1', text)\n",
    "print(new_text)\n"
   ]
  },
  {
   "cell_type": "code",
   "execution_count": 114,
   "metadata": {},
   "outputs": [
    {
     "name": "stdout",
     "output_type": "stream",
     "text": [
      "Double the number of 15 = 30\n"
     ]
    }
   ],
   "source": [
    "# Write a Python program to create a function that takes one argument, and that argument will be multiplied with an unknown given number.\n",
    "\n",
    "def func_compute(n):\n",
    "    return lambda x : x * n\n",
    "\n",
    "result = func_compute(2)\n",
    "\n",
    "print(\"Double the number of 15 =\", result(15))\n"
   ]
  },
  {
   "cell_type": "code",
   "execution_count": 116,
   "metadata": {},
   "outputs": [
    {
     "name": "stdout",
     "output_type": "stream",
     "text": [
      "[('Social sciences', 82), ('English', 88), ('Science', 90), ('Maths', 97)]\n"
     ]
    }
   ],
   "source": [
    "# Write a Python program to sort a list of tuples using Lambda . Print the result\n",
    "\n",
    "subject_marks = [('English', 88), ('Science', 90), ('Maths', 97), ('Social sciences', 82)]\n",
    "\n",
    "subject_marks.sort(key = lambda x: x[1])\n",
    "\n",
    "print(subject_marks)"
   ]
  },
  {
   "cell_type": "code",
   "execution_count": 117,
   "metadata": {},
   "outputs": [
    {
     "name": "stdout",
     "output_type": "stream",
     "text": [
      "[{'make': 'Nokia', 'model': 216, 'color': 'Black'}, {'make': 'Samsung', 'model': 7, 'color': 'Blue'}, {'make': 'Mi Max', 'model': '2', 'color': 'Gold'}]\n"
     ]
    }
   ],
   "source": [
    "#  Write a Python program to sort a list of dictionaries using Lambda.  Print the result\n",
    "\n",
    "models = [{'make':'Nokia', 'model':216, 'color':'Black'}, {'make':'Mi Max', 'model':'2', 'color':'Gold'}, {'make':'Samsung', 'model': 7, 'color':'Blue'}]\n",
    "\n",
    "sorted_models = sorted(models, key = lambda x: x['color'])\n",
    "\n",
    "print(sorted_models)"
   ]
  },
  {
   "cell_type": "code",
   "execution_count": 119,
   "metadata": {},
   "outputs": [
    {
     "name": "stdout",
     "output_type": "stream",
     "text": [
      "[2, 4, 6, 8, 10]\n",
      "[1, 3, 5, 7, 9]\n"
     ]
    }
   ],
   "source": [
    "#  Write a Python program to filter even or odd from a list of integers using Lambda.  Print the result\n",
    "\n",
    "nums = [1, 2, 3, 4, 5, 6, 7, 8, 9, 10]\n",
    "\n",
    "even_nums = list(filter(lambda x: x%2 == 0, nums))\n",
    "print(even_nums)\n",
    "\n",
    "odd_nums = list(filter(lambda x: x%2 != 0, nums))\n",
    "print(odd_nums)"
   ]
  },
  {
   "cell_type": "code",
   "execution_count": 121,
   "metadata": {},
   "outputs": [
    {
     "name": "stdout",
     "output_type": "stream",
     "text": [
      "2020-12-17 13:11:10.606481\n",
      "2020\n",
      "12\n",
      "17\n",
      "13:11:10.606481\n"
     ]
    }
   ],
   "source": [
    "# Write a Python program to extract year, month, date and time using Lambda.  Print the result\n",
    "\n",
    "import datetime\n",
    "now = datetime.datetime.now()\n",
    "print(now)\n",
    "year = lambda x: x.year\n",
    "month = lambda x: x.month\n",
    "day = lambda x: x.day\n",
    "t = lambda x: x.time()\n",
    "print(year(now))\n",
    "print(month(now))\n",
    "print(day(now))\n",
    "print(t(now))"
   ]
  },
  {
   "cell_type": "code",
   "execution_count": 122,
   "metadata": {},
   "outputs": [
    {
     "name": "stdout",
     "output_type": "stream",
     "text": [
      "True\n",
      "True\n",
      "False\n",
      "True\n",
      "False\n",
      "True\n",
      "\n",
      "Print checking numbers:\n",
      "True\n",
      "True\n"
     ]
    }
   ],
   "source": [
    "# Write a Python program to check whether a given string is number or not using Lambda  Print the result\n",
    "\n",
    "is_num = lambda q: q.replace('.','',1).isdigit()\n",
    "print(is_num('26587'))\n",
    "print(is_num('4.2365'))\n",
    "print(is_num('-12547'))\n",
    "print(is_num('00'))\n",
    "print(is_num('A001'))\n",
    "print(is_num('001'))\n",
    "print(\"\\nPrint checking numbers:\")\n",
    "is_num1 = lambda r: is_num(r[1:]) if r[0]=='-' else is_num(r)\n",
    "print(is_num1('-16.4'))\n",
    "print(is_num1('-24587.11'))"
   ]
  },
  {
   "cell_type": "code",
   "execution_count": 123,
   "metadata": {},
   "outputs": [
    {
     "name": "stdout",
     "output_type": "stream",
     "text": [
      "Fibonacci series upto 2:\n",
      "[0, 1]\n"
     ]
    }
   ],
   "source": [
    "# Write a Python program to create Fibonacci series upto n using Lambda. Print the result\n",
    "\n",
    "from functools import reduce\n",
    " \n",
    "fib_series = lambda n: reduce(lambda x, _: x+[x[-1]+x[-2]],\n",
    "                                range(n-2), [0, 1])\n",
    " \n",
    "print(\"Fibonacci series upto 2:\")\n",
    "print(fib_series(2))"
   ]
  },
  {
   "cell_type": "code",
   "execution_count": 124,
   "metadata": {},
   "outputs": [
    {
     "name": "stdout",
     "output_type": "stream",
     "text": [
      "Original arrays:\n",
      "[1, 2, 3, 5, 7, 8, 9, 10]\n",
      "[1, 2, 4, 8, 9]\n",
      "\n",
      "Intersection of the said arrays:  [1, 2, 8, 9]\n"
     ]
    }
   ],
   "source": [
    "# Write a Python program to find intersection of two given arrays using Lambda.Print the result\n",
    "\n",
    "array_nums1 = [1, 2, 3, 5, 7, 8, 9, 10]\n",
    "array_nums2 = [1, 2, 4, 8, 9]\n",
    "print(\"Original arrays:\")\n",
    "print(array_nums1)\n",
    "print(array_nums2)\n",
    "result = list(filter(lambda x: x in array_nums1, array_nums2)) \n",
    "print (\"\\nIntersection of the said arrays: \",result)"
   ]
  },
  {
   "cell_type": "code",
   "execution_count": 125,
   "metadata": {},
   "outputs": [
    {
     "name": "stdout",
     "output_type": "stream",
     "text": [
      "Original arrays:\n",
      "[-1, 2, -3, 5, 7, 8, 9, -10]\n",
      "\n",
      "Rearrange positive and negative numbers of the said array:\n",
      "[2, 5, 7, 8, 9, -10, -3, -1]\n"
     ]
    }
   ],
   "source": [
    "# Write a Python program to rearrange positive and negative numbers in a given array using Lambda.Print the result\n",
    "array_nums = [-1, 2, -3, 5, 7, 8, 9, -10]\n",
    "print(\"Original arrays:\")\n",
    "print(array_nums)\n",
    "result = sorted(array_nums, key = lambda i: 0 if i == 0 else -1 / i)\n",
    "print(\"\\nRearrange positive and negative numbers of the said array:\")\n",
    "print(result)"
   ]
  },
  {
   "cell_type": "code",
   "execution_count": 126,
   "metadata": {},
   "outputs": [
    {
     "name": "stdout",
     "output_type": "stream",
     "text": [
      "Original arrays:\n",
      "[1, 2, 3, 5, 7, 8, 9, 10]\n",
      "\n",
      "Number of even numbers in the above array:  3\n",
      "\n",
      "Number of odd numbers in the above array:  5\n"
     ]
    }
   ],
   "source": [
    "# Write a Python program to count the even, odd numbers in a given array of integers using Lambda. Print the result\n",
    "\n",
    "array_nums = [1, 2, 3, 5, 7, 8, 9, 10]\n",
    "print(\"Original arrays:\")\n",
    "print(array_nums)\n",
    "odd_ctr = len(list(filter(lambda x: (x%2 != 0) , array_nums)))\n",
    "even_ctr = len(list(filter(lambda x: (x%2 == 0) , array_nums)))\n",
    "print(\"\\nNumber of even numbers in the above array: \", even_ctr)\n",
    "print(\"\\nNumber of odd numbers in the above array: \", odd_ctr)"
   ]
  },
  {
   "cell_type": "code",
   "execution_count": 129,
   "metadata": {},
   "outputs": [
    {
     "name": "stdout",
     "output_type": "stream",
     "text": [
      "Original list:\n",
      "['4', '12', '45', '7', '0', '100', '200', '-12', '-500']\n",
      "\n",
      "Sort the said list of strings(numbers) numerically:\n",
      "['-500', '-12', '0', '4', '7', '12', '45', '100', '200']\n"
     ]
    }
   ],
   "source": [
    "# Write a Python function to sort a given list of strings(numbers) numerically using lambda. Print an example\n",
    "\n",
    "def sort_numeric_strings(nums_str):\n",
    "    result = sorted(nums_str, key=lambda el: int(el))\n",
    "    return result\n",
    "\n",
    "nums_str = ['4','12','45','7','0','100','200','-12','-500']\n",
    "print(\"Original list:\")\n",
    "print(nums_str)\n",
    "print(\"\\nSort the said list of strings(numbers) numerically:\")\n",
    "print(sort_numeric_strings(nums_str))"
   ]
  },
  {
   "cell_type": "code",
   "execution_count": 130,
   "metadata": {},
   "outputs": [
    {
     "name": "stdout",
     "output_type": "stream",
     "text": [
      "Original list:\n",
      "[3, 4, 5, 8, 0, 3, 8, 5, 0, 3, 1, 5, 2, 3, 4, 2]\n",
      "\n",
      "Count the occurrences of the items in the said list:\n",
      "{3: 4, 4: 2, 5: 3, 8: 2, 0: 2, 1: 1, 2: 2}\n"
     ]
    }
   ],
   "source": [
    "#  Write a Python program to count the occurrences of the items in a given list using lambda. Print an example\n",
    "\n",
    "def count_occurrences(nums):\n",
    "    result = dict(map(lambda el  : (el, list(nums).count(el)), nums))\n",
    "    return result\n",
    "\n",
    "nums = [3,4,5,8,0,3,8,5,0,3,1,5,2,3,4,2]\n",
    "print(\"Original list:\")\n",
    "print(nums)\n",
    "print(\"\\nCount the occurrences of the items in the said list:\")\n",
    "print(count_occurrences(nums))\n"
   ]
  },
  {
   "cell_type": "code",
   "execution_count": null,
   "metadata": {},
   "outputs": [],
   "source": []
  }
 ],
 "metadata": {
  "kernelspec": {
   "display_name": "Python 3",
   "language": "python",
   "name": "python3"
  },
  "language_info": {
   "codemirror_mode": {
    "name": "ipython",
    "version": 3
   },
   "file_extension": ".py",
   "mimetype": "text/x-python",
   "name": "python",
   "nbconvert_exporter": "python",
   "pygments_lexer": "ipython3",
   "version": "3.7.7"
  }
 },
 "nbformat": 4,
 "nbformat_minor": 4
}
